{
 "cells": [
  {
   "cell_type": "markdown",
   "metadata": {},
   "source": [
    "# Example of a user case "
   ]
  },
  {
   "cell_type": "markdown",
   "metadata": {},
   "source": [
    "## (1) Run iDora EDA pipeline\n",
    "\n",
    "Typical EDA workflow: \n",
    "1. Load the set (csv or txt) \n",
    "2. Create summary statistics for your dataset \n",
    "3. Create visuals for your dataset (bar and boxplots) \n",
    "4. Transform the dataset (one-hot encodiging, label encoding & varaible removal) \n",
    "5. Produce feature importance measures and rank the features\n",
    "\n",
    "Two ways of working with Dora: \n",
    "- Use iDora.main_run file to create a pipeline from the pre-selected functions ( by commenting out functions you don't need )\n",
    "- Call the functions from iDora one by one   "
   ]
  },
  {
   "cell_type": "markdown",
   "metadata": {},
   "source": [
    " Raw dataset load "
   ]
  },
  {
   "cell_type": "code",
   "execution_count": 1,
   "metadata": {},
   "outputs": [],
   "source": [
    "# Some imports\n",
    "import os\n",
    "import pandas as pd\n",
    "import numpy as np\n",
    "import sys\n",
    "import time"
   ]
  },
  {
   "cell_type": "code",
   "execution_count": 8,
   "metadata": {},
   "outputs": [],
   "source": [
    "# Where is your data? Indicate now!\n",
    "\n",
    "# OR use test datasets\n",
    "\n",
    "# # ------ Bank -------\n",
    "path_to_data = r'C:\\Users\\pnl0516p\\Documents\\PyScripts\\iDora\\idora\\test_data\\Bank Marketing'\n",
    "file_name = r'balanced_bank.csv'\n",
    "target = 'y' # idnetify only if already known\n",
    "\n",
    "# #  ------ Housing Prices -------\n",
    "# path_to_data = r'C:\\Users\\pnl0516p\\Documents\\PyScripts\\iDora\\idora\\test_data\\HousingPricesKC'\n",
    "# file_name = r'kc_house_data.csv'\n",
    "# target = 'price'\n",
    "\n",
    "# # ------ Rossman -------\n",
    "# path_to_data = r'C:\\Users\\pnl0516p\\Documents\\PyScripts\\iDora\\idora\\test_data\\Rossman'\n",
    "# file_name = r'train.csv'\n",
    "# target = 'Sales' \n",
    "\n",
    "## import iDora_main as idora ( thus, refer to the tool as idora)\n",
    "os.chdir(r'C:/Users/pnl0516p/Documents/PyScripts/iDoraModel/idora')\n",
    "import iDora_main as idora\n",
    "cwd = os.getcwd()\n",
    "os.chdir(path_to_data)\n",
    "## Read Raw data in dataframe\n",
    "df_raw = pd.read_csv(file_name)"
   ]
  },
  {
   "cell_type": "markdown",
   "metadata": {},
   "source": [
    "#### EDA pipeline\n",
    "Load the data with iDora & start exploring with the following EDA pipeline:\n",
    "    \n",
    "* Exploration (should be always the first step you do):\n",
    " - _ = explore( df ) = get to know what columns you have \n",
    " - summary = summarize( df ) = produce summary table for all numerical variables\n",
    "\n",
    "* Plotting (create and save box- & barplots for numerical variables) \n",
    " - settings.boxplots_path = make_boxplots( summary, df=df )\n",
    " - settings.barplots_path = make_barplots( summary, df=df )\n",
    "\n",
    "* Produce HTMl (enrich summary table with plots) \n",
    " - df_summary_plots = produce_df_plot( summary )\n",
    " - html_example = display_df( df_summary_plots,['Count','Unique','Mean'] )\n",
    "\n",
    "* Transformation (transform data to be able to model & get more accurate MI scores)\n",
    " - df_sparse = onehot_encode( settings.cat_vars, df )\n",
    "\n",
    "* Variables Removal\n",
    " - df_new = remove_vars( df_sparse ) \n",
    "\n",
    "* Saving the output\n",
    " - save_html( html_example )\n",
    " - save_df( df_new )\n"
   ]
  },
  {
   "cell_type": "code",
   "execution_count": 9,
   "metadata": {
    "scrolled": false
   },
   "outputs": [
    {
     "name": "stdout",
     "output_type": "stream",
     "text": [
      "Your data has this dimensionality: (9280, 22) \n",
      "\n",
      "You have 0 missing values (cells) in your data. \n",
      "\n",
      "These are all the variables you have: ['Unnamed: 0', 'age', 'job', 'marital', 'education', 'default', 'housing', 'loan', 'contact', 'month', 'day_of_week', 'duration', 'campaign', 'pdays', 'previous', 'poutcome', 'emp.var.rate', 'cons.price.idx', 'cons.conf.idx', 'euribor3m', 'nr.employed', 'y'] \n",
      "\n",
      "Tell me the ID column name, please.\n",
      "\n",
      "Tell me the Date column name, please.\n",
      "\n",
      "You have these variables with numerical values to put in a model:\n",
      "['Unnamed: 0', 'age', 'job', 'marital', 'education', 'default', 'housing', 'loan', 'contact', 'month', 'day_of_week', 'duration', 'campaign', 'pdays', 'previous', 'poutcome', 'emp.var.rate', 'cons.price.idx', 'cons.conf.idx', 'euribor3m', 'nr.employed', 'y'] \n",
      "\n",
      "You have these variables with object type (e.g. strings):\n",
      "[] \n",
      "\n",
      "You might want to (one-hot) encode these variables as they have less than 100 unique numerical values\n",
      "['age', 'campaign', 'pdays', 'previous', 'emp.var.rate', 'cons.price.idx', 'cons.conf.idx', 'nr.employed'] \n",
      "\n",
      "You have these varaiables that have more than 50.0% missing values\n",
      "[] \n",
      "\n",
      "These  are going to be onehot-encoded. Which do you want to exclude?:\n",
      " ['age', 'job', 'marital', 'education', 'housing', 'loan', 'month', 'day_of_week', 'campaign', 'pdays', 'previous', 'poutcome', 'emp.var.rate', 'cons.price.idx', 'cons.conf.idx', 'nr.employed']\n",
      "\n",
      "['']\n",
      "final columsn to encode ['age', 'job', 'marital', 'education', 'housing', 'loan', 'month', 'day_of_week', 'campaign', 'pdays', 'previous', 'poutcome', 'emp.var.rate', 'cons.price.idx', 'cons.conf.idx', 'nr.employed']\n",
      "You have these variables, tell me which ones you do not need.\n",
      "['Unnamed: 0', 'default', 'contact', 'duration', 'euribor3m', 'y', 'age_0', 'age_1', 'age_2', 'age_3', 'age_4', 'age_5', 'age_6', 'age_7', 'age_8', 'age_9', 'age_10', 'age_11', 'age_12', 'age_13', 'age_14', 'age_15', 'age_16', 'age_17', 'age_18', 'age_19', 'age_20', 'age_21', 'age_22', 'age_23', 'age_24', 'age_25', 'age_26', 'age_27', 'age_28', 'age_29', 'age_30', 'age_31', 'age_32', 'age_33', 'age_34', 'age_35', 'age_36', 'age_37', 'age_38', 'age_39', 'age_40', 'age_41', 'age_42', 'age_43', 'age_44', 'age_45', 'age_46', 'age_47', 'age_48', 'age_49', 'age_50', 'age_51', 'age_52', 'age_53', 'age_54', 'age_55', 'age_56', 'age_57', 'age_58', 'age_59', 'age_60', 'age_61', 'age_62', 'age_63', 'age_64', 'age_65', 'age_66', 'age_67', 'age_68', 'age_69', 'age_70', 'age_71', 'age_72', 'age_73', 'age_74', 'job_0', 'job_1', 'job_2', 'job_3', 'job_4', 'job_5', 'job_6', 'job_7', 'job_8', 'job_9', 'job_10', 'job_11', 'marital_0', 'marital_1', 'marital_2', 'marital_3', 'education_0', 'education_1', 'education_2', 'education_3', 'education_4', 'education_5', 'education_6', 'education_7', 'housing_0', 'housing_1', 'housing_2', 'loan_0', 'loan_1', 'loan_2', 'month_0', 'month_1', 'month_2', 'month_3', 'month_4', 'month_5', 'month_6', 'month_7', 'month_8', 'month_9', 'day_of_week_0', 'day_of_week_1', 'day_of_week_2', 'day_of_week_3', 'day_of_week_4', 'campaign_0', 'campaign_1', 'campaign_2', 'campaign_3', 'campaign_4', 'campaign_5', 'campaign_6', 'campaign_7', 'campaign_8', 'campaign_9', 'campaign_10', 'campaign_11', 'campaign_12', 'campaign_13', 'campaign_14', 'campaign_15', 'campaign_16', 'campaign_17', 'campaign_18', 'campaign_19', 'campaign_20', 'campaign_21', 'campaign_22', 'campaign_23', 'campaign_24', 'campaign_25', 'campaign_26', 'campaign_27', 'campaign_28', 'campaign_29', 'pdays_0', 'pdays_1', 'pdays_2', 'pdays_3', 'pdays_4', 'pdays_5', 'pdays_6', 'pdays_7', 'pdays_8', 'pdays_9', 'pdays_10', 'pdays_11', 'pdays_12', 'pdays_13', 'pdays_14', 'pdays_15', 'pdays_16', 'pdays_17', 'pdays_18', 'pdays_19', 'pdays_20', 'pdays_21', 'pdays_22', 'pdays_23', 'pdays_24', 'pdays_25', 'previous_0', 'previous_1', 'previous_2', 'previous_3', 'previous_4', 'previous_5', 'previous_6', 'poutcome_0', 'poutcome_1', 'poutcome_2', 'emp.var.rate_0', 'emp.var.rate_1', 'emp.var.rate_2', 'emp.var.rate_3', 'emp.var.rate_4', 'emp.var.rate_5', 'emp.var.rate_6', 'emp.var.rate_7', 'emp.var.rate_8', 'emp.var.rate_9', 'cons.price.idx_0', 'cons.price.idx_1', 'cons.price.idx_2', 'cons.price.idx_3', 'cons.price.idx_4', 'cons.price.idx_5', 'cons.price.idx_6', 'cons.price.idx_7', 'cons.price.idx_8', 'cons.price.idx_9', 'cons.price.idx_10', 'cons.price.idx_11', 'cons.price.idx_12', 'cons.price.idx_13', 'cons.price.idx_14', 'cons.price.idx_15', 'cons.price.idx_16', 'cons.price.idx_17', 'cons.price.idx_18', 'cons.price.idx_19', 'cons.price.idx_20', 'cons.price.idx_21', 'cons.price.idx_22', 'cons.price.idx_23', 'cons.price.idx_24', 'cons.price.idx_25', 'cons.conf.idx_0', 'cons.conf.idx_1', 'cons.conf.idx_2', 'cons.conf.idx_3', 'cons.conf.idx_4', 'cons.conf.idx_5', 'cons.conf.idx_6', 'cons.conf.idx_7', 'cons.conf.idx_8', 'cons.conf.idx_9', 'cons.conf.idx_10', 'cons.conf.idx_11', 'cons.conf.idx_12', 'cons.conf.idx_13', 'cons.conf.idx_14', 'cons.conf.idx_15', 'cons.conf.idx_16', 'cons.conf.idx_17', 'cons.conf.idx_18', 'cons.conf.idx_19', 'cons.conf.idx_20', 'cons.conf.idx_21', 'cons.conf.idx_22', 'cons.conf.idx_23', 'cons.conf.idx_24', 'cons.conf.idx_25', 'nr.employed_0', 'nr.employed_1', 'nr.employed_2', 'nr.employed_3', 'nr.employed_4', 'nr.employed_5', 'nr.employed_6', 'nr.employed_7', 'nr.employed_8', 'nr.employed_9', 'nr.employed_10']\n",
      "Unnamed: 0\n"
     ]
    }
   ],
   "source": [
    "## Start the pipeline: Load dataframe from a destination, if file is txt  give the argument: txt_flag = True \n",
    "df_new = idora.eda_run( path_to_data + '\\\\' + file_name )"
   ]
  },
  {
   "cell_type": "markdown",
   "metadata": {},
   "source": [
    "## (3) Automatic modelling"
   ]
  },
  {
   "cell_type": "code",
   "execution_count": 14,
   "metadata": {},
   "outputs": [],
   "source": [
    "params = idora.set_params(n_classes=2,loss=\"binary:logistic\")"
   ]
  },
  {
   "cell_type": "code",
   "execution_count": 15,
   "metadata": {},
   "outputs": [],
   "source": [
    "all_features = list(df_new.columns)\n",
    "temp = all_features.pop(all_features.index(target))\n",
    "features = all_features\n",
    "all_features = list(df_new.columns)"
   ]
  },
  {
   "cell_type": "code",
   "execution_count": 16,
   "metadata": {},
   "outputs": [],
   "source": [
    "XY_train, XY_test = idora.train_test(df_new)"
   ]
  },
  {
   "cell_type": "code",
   "execution_count": 17,
   "metadata": {
    "scrolled": false
   },
   "outputs": [
    {
     "name": "stdout",
     "output_type": "stream",
     "text": [
      "Train a XGBoost model\n",
      "[0]\ttrain-error:0.092777\teval-error:0.140067\n",
      "Multiple eval metrics have been passed: 'eval-error' will be used for early stopping.\n",
      "\n",
      "Will train until eval-error hasn't improved in 10 rounds.\n",
      "[1]\ttrain-error:0.088904\teval-error:0.122559\n",
      "[2]\ttrain-error:0.077959\teval-error:0.119192\n",
      "[3]\ttrain-error:0.075434\teval-error:0.119192\n",
      "[4]\ttrain-error:0.072066\teval-error:0.114478\n",
      "[5]\ttrain-error:0.06853\teval-error:0.119865\n",
      "[6]\ttrain-error:0.067015\teval-error:0.119192\n",
      "[7]\ttrain-error:0.064657\teval-error:0.119192\n",
      "[8]\ttrain-error:0.062974\teval-error:0.119192\n",
      "[9]\ttrain-error:0.059438\teval-error:0.112458\n",
      "[10]\ttrain-error:0.057754\teval-error:0.110438\n",
      "[11]\ttrain-error:0.056744\teval-error:0.113131\n",
      "[12]\ttrain-error:0.053881\teval-error:0.115152\n",
      "[13]\ttrain-error:0.052702\teval-error:0.114478\n",
      "[14]\ttrain-error:0.050682\teval-error:0.115152\n",
      "[15]\ttrain-error:0.049503\teval-error:0.114478\n",
      "[16]\ttrain-error:0.049672\teval-error:0.116498\n",
      "[17]\ttrain-error:0.047651\teval-error:0.116498\n",
      "[18]\ttrain-error:0.046978\teval-error:0.115152\n",
      "[19]\ttrain-error:0.046978\teval-error:0.118519\n",
      "[20]\ttrain-error:0.045462\teval-error:0.118519\n",
      "Stopping. Best iteration:\n",
      "[10]\ttrain-error:0.057754\teval-error:0.110438\n",
      "\n",
      "Validating (Evaluation of validation split)\n",
      "the precision is: 0.8423707440100883\n",
      "the recall is: 0.9290681502086231\n",
      "the F-score is: 0.8835978835978836\n",
      "Evaluation on test: make predictions on the test set\n",
      "the precision is: 0.8761238761238761\n",
      "the recall is: 0.9251054852320675\n",
      "the F-score is: 0.8999486916367367\n"
     ]
    }
   ],
   "source": [
    "model = idora.gmb_xgb_binary(XY_train,XY_test,params=params,all_features=all_features,target=target,features=features)"
   ]
  },
  {
   "cell_type": "code",
   "execution_count": null,
   "metadata": {},
   "outputs": [],
   "source": []
  },
  {
   "cell_type": "code",
   "execution_count": null,
   "metadata": {},
   "outputs": [],
   "source": []
  },
  {
   "cell_type": "code",
   "execution_count": null,
   "metadata": {},
   "outputs": [],
   "source": []
  },
  {
   "cell_type": "code",
   "execution_count": null,
   "metadata": {},
   "outputs": [],
   "source": []
  },
  {
   "cell_type": "code",
   "execution_count": null,
   "metadata": {},
   "outputs": [],
   "source": []
  },
  {
   "cell_type": "code",
   "execution_count": null,
   "metadata": {},
   "outputs": [],
   "source": []
  },
  {
   "cell_type": "code",
   "execution_count": null,
   "metadata": {},
   "outputs": [],
   "source": []
  },
  {
   "cell_type": "code",
   "execution_count": null,
   "metadata": {},
   "outputs": [],
   "source": []
  },
  {
   "cell_type": "code",
   "execution_count": null,
   "metadata": {},
   "outputs": [],
   "source": []
  },
  {
   "cell_type": "code",
   "execution_count": null,
   "metadata": {},
   "outputs": [],
   "source": []
  },
  {
   "cell_type": "code",
   "execution_count": null,
   "metadata": {},
   "outputs": [],
   "source": []
  },
  {
   "cell_type": "code",
   "execution_count": null,
   "metadata": {},
   "outputs": [],
   "source": []
  },
  {
   "cell_type": "code",
   "execution_count": null,
   "metadata": {},
   "outputs": [],
   "source": []
  },
  {
   "cell_type": "code",
   "execution_count": null,
   "metadata": {},
   "outputs": [],
   "source": []
  },
  {
   "cell_type": "code",
   "execution_count": null,
   "metadata": {},
   "outputs": [],
   "source": []
  },
  {
   "cell_type": "code",
   "execution_count": null,
   "metadata": {},
   "outputs": [],
   "source": []
  },
  {
   "cell_type": "code",
   "execution_count": null,
   "metadata": {},
   "outputs": [],
   "source": []
  },
  {
   "cell_type": "code",
   "execution_count": null,
   "metadata": {},
   "outputs": [],
   "source": []
  },
  {
   "cell_type": "code",
   "execution_count": null,
   "metadata": {},
   "outputs": [],
   "source": []
  },
  {
   "cell_type": "code",
   "execution_count": null,
   "metadata": {},
   "outputs": [],
   "source": []
  },
  {
   "cell_type": "code",
   "execution_count": null,
   "metadata": {},
   "outputs": [],
   "source": []
  },
  {
   "cell_type": "code",
   "execution_count": null,
   "metadata": {},
   "outputs": [],
   "source": []
  },
  {
   "cell_type": "code",
   "execution_count": null,
   "metadata": {},
   "outputs": [],
   "source": []
  },
  {
   "cell_type": "code",
   "execution_count": null,
   "metadata": {},
   "outputs": [],
   "source": []
  }
 ],
 "metadata": {
  "kernelspec": {
   "display_name": "Python 3",
   "language": "python",
   "name": "python3"
  },
  "language_info": {
   "codemirror_mode": {
    "name": "ipython",
    "version": 3
   },
   "file_extension": ".py",
   "mimetype": "text/x-python",
   "name": "python",
   "nbconvert_exporter": "python",
   "pygments_lexer": "ipython3",
   "version": "3.6.4"
  }
 },
 "nbformat": 4,
 "nbformat_minor": 2
}
